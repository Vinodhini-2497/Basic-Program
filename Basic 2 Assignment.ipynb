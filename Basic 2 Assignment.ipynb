{
 "cells": [
  {
   "cell_type": "code",
   "execution_count": 23,
   "metadata": {},
   "outputs": [
    {
     "data": {
      "text/plain": [
       "'The Mileage of travling the 2 kilomter is 1.242'"
      ]
     },
     "execution_count": 23,
     "metadata": {},
     "output_type": "execute_result"
    }
   ],
   "source": [
    "#Convert Kilometer to Mileage\n",
    "def travel(Km):\n",
    "    Mile=float(Km*0.621)\n",
    "    return (\"The Mileage of travling the {} kilomter is {}\".format(Km,Mile))\n",
    "\n",
    "travel(2)"
   ]
  },
  {
   "cell_type": "code",
   "execution_count": 28,
   "metadata": {},
   "outputs": [
    {
     "name": "stdout",
     "output_type": "stream",
     "text": [
      "Enter a degree of cleius0\n",
      "The degree of Fahrenheit is %0.3f F 32.0\n"
     ]
    }
   ],
   "source": [
    "#Convert Celius to Fahrenheit\n",
    "C=float(input(\"Enter a degree of cleius\"))\n",
    "F=(C*9.0)/5.0+32\n",
    "print(\"The degree of Fahrenheit is %0.3f F\",F)"
   ]
  },
  {
   "cell_type": "code",
   "execution_count": 44,
   "metadata": {},
   "outputs": [
    {
     "data": {
      "text/plain": [
       "(-1.0, -4.0)"
      ]
     },
     "execution_count": 44,
     "metadata": {},
     "output_type": "execute_result"
    }
   ],
   "source": [
    "#Quartic Equation\n",
    "def func(a,b,c):\n",
    " d=(b*b)-4*a*c\n",
    " e=d**0.5\n",
    " real_part=(-b+e)/(2*a)\n",
    " diff_part=(-b-e)/(2*a)\n",
    " return real_part,diff_part\n",
    "func(1,5,4)"
   ]
  },
  {
   "cell_type": "code",
   "execution_count": 47,
   "metadata": {},
   "outputs": [
    {
     "name": "stdout",
     "output_type": "stream",
     "text": [
      "Enter a value:3\n",
      "Enter b value:5\n",
      "The after swaping without using temp variable a is 5 and b is 3\n"
     ]
    }
   ],
   "source": [
    "#Swaping two variables without using temp variable\n",
    "a=int(input(\"Enter a value:\"))\n",
    "b=int(input(\"Enter b value:\"))\n",
    "a=a+b #5+3=8\n",
    "b=a-b #8-5=3\n",
    "a=a-b #8-3=5\n",
    "print(\"The after swaping without using temp variable a is {} and b is {}\".format(a,b))"
   ]
  },
  {
   "cell_type": "code",
   "execution_count": 14,
   "metadata": {},
   "outputs": [
    {
     "name": "stdout",
     "output_type": "stream",
     "text": [
      "                                 2022\n",
      "\n",
      "      January                  February                  March\n",
      "Mo Tu We Th Fr Sa Su     Mo Tu We Th Fr Sa Su     Mo Tu We Th Fr Sa Su\n",
      "                1  2         1  2  3  4  5  6         1  2  3  4  5  6\n",
      " 3  4  5  6  7  8  9      7  8  9 10 11 12 13      7  8  9 10 11 12 13\n",
      "10 11 12 13 14 15 16     14 15 16 17 18 19 20     14 15 16 17 18 19 20\n",
      "17 18 19 20 21 22 23     21 22 23 24 25 26 27     21 22 23 24 25 26 27\n",
      "24 25 26 27 28 29 30     28                       28 29 30 31\n",
      "31\n",
      "\n",
      "       April                     May                      June\n",
      "Mo Tu We Th Fr Sa Su     Mo Tu We Th Fr Sa Su     Mo Tu We Th Fr Sa Su\n",
      "             1  2  3                        1            1  2  3  4  5\n",
      " 4  5  6  7  8  9 10      2  3  4  5  6  7  8      6  7  8  9 10 11 12\n",
      "11 12 13 14 15 16 17      9 10 11 12 13 14 15     13 14 15 16 17 18 19\n",
      "18 19 20 21 22 23 24     16 17 18 19 20 21 22     20 21 22 23 24 25 26\n",
      "25 26 27 28 29 30        23 24 25 26 27 28 29     27 28 29 30\n",
      "                         30 31\n",
      "\n",
      "        July                    August                 September\n",
      "Mo Tu We Th Fr Sa Su     Mo Tu We Th Fr Sa Su     Mo Tu We Th Fr Sa Su\n",
      "             1  2  3      1  2  3  4  5  6  7               1  2  3  4\n",
      " 4  5  6  7  8  9 10      8  9 10 11 12 13 14      5  6  7  8  9 10 11\n",
      "11 12 13 14 15 16 17     15 16 17 18 19 20 21     12 13 14 15 16 17 18\n",
      "18 19 20 21 22 23 24     22 23 24 25 26 27 28     19 20 21 22 23 24 25\n",
      "25 26 27 28 29 30 31     29 30 31                 26 27 28 29 30\n",
      "\n",
      "      October                  November                 December\n",
      "Mo Tu We Th Fr Sa Su     Mo Tu We Th Fr Sa Su     Mo Tu We Th Fr Sa Su\n",
      "                1  2         1  2  3  4  5  6               1  2  3  4\n",
      " 3  4  5  6  7  8  9      7  8  9 10 11 12 13      5  6  7  8  9 10 11\n",
      "10 11 12 13 14 15 16     14 15 16 17 18 19 20     12 13 14 15 16 17 18\n",
      "17 18 19 20 21 22 23     21 22 23 24 25 26 27     19 20 21 22 23 24 25\n",
      "24 25 26 27 28 29 30     28 29 30                 26 27 28 29 30 31\n",
      "31\n",
      "\n"
     ]
    }
   ],
   "source": [
    "#year of calendar\n",
    "import calendar\n",
    "print(\"{}\".format(calendar.calendar(2022,1,1,5)))"
   ]
  },
  {
   "cell_type": "code",
   "execution_count": null,
   "metadata": {},
   "outputs": [],
   "source": []
  }
 ],
 "metadata": {
  "kernelspec": {
   "display_name": "Python 3",
   "language": "python",
   "name": "python3"
  },
  "language_info": {
   "codemirror_mode": {
    "name": "ipython",
    "version": 3
   },
   "file_extension": ".py",
   "mimetype": "text/x-python",
   "name": "python",
   "nbconvert_exporter": "python",
   "pygments_lexer": "ipython3",
   "version": "3.8.5"
  }
 },
 "nbformat": 4,
 "nbformat_minor": 4
}
