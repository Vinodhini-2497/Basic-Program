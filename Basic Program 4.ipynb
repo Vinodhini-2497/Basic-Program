{
 "cells": [
  {
   "cell_type": "code",
   "execution_count": 4,
   "metadata": {},
   "outputs": [
    {
     "name": "stdout",
     "output_type": "stream",
     "text": [
      "The factorial of given nuber is: 120\n"
     ]
    }
   ],
   "source": [
    "#factorial of given number\n",
    "def fact(n):\n",
    "    factorial=1\n",
    "    for i in range(2,n+1):#0123\n",
    "            factorial=factorial*i\n",
    "    print(\"The factorial of given nuber is:\",factorial)\n",
    "fact(5)"
   ]
  },
  {
   "cell_type": "code",
   "execution_count": 5,
   "metadata": {},
   "outputs": [
    {
     "name": "stdout",
     "output_type": "stream",
     "text": [
      "Enter the multiplication number:5\n",
      "5*1=5\n",
      "5*2=10\n",
      "5*3=15\n",
      "5*4=20\n",
      "5*5=25\n",
      "5*6=30\n",
      "5*7=35\n",
      "5*8=40\n",
      "5*9=45\n",
      "5*10=50\n"
     ]
    }
   ],
   "source": [
    "#multiplication table\n",
    "n=int(input(\"Enter the multiplication number:\"))\n",
    "for i in range(1,11):\n",
    "        j=n*i\n",
    "        print(\"{}*{}={}\".format(n,i,j))"
   ]
  },
  {
   "cell_type": "code",
   "execution_count": 7,
   "metadata": {},
   "outputs": [
    {
     "name": "stdout",
     "output_type": "stream",
     "text": [
      "Enter the number series:8\n",
      "[0, 1, 1, 2, 3, 5, 8, 13]\n"
     ]
    }
   ],
   "source": [
    "#Fibonacci Series\n",
    "#0,1,1,2,3,5,8,13\n",
    "numberlist=int(input(\"Enter the number series:\"))#3-012\n",
    "n1=0\n",
    "n2=1\n",
    "number=[]\n",
    "for i in range(numberlist):\n",
    "      if (i>=0):\n",
    "            n=n1#n=0\n",
    "            n1=n2#n1=1\n",
    "            n2=n+n1\n",
    "            number.append(n)\n",
    "print(number)"
   ]
  },
  {
   "cell_type": "code",
   "execution_count": 8,
   "metadata": {},
   "outputs": [
    {
     "name": "stdout",
     "output_type": "stream",
     "text": [
      "Enter the number:663\n",
      "This is not armstrong number 663\n"
     ]
    }
   ],
   "source": [
    "#check the given number is armstrong or not\n",
    "n=int(input(\"Enter the number:\"))#153\n",
    "arm=0\n",
    "temp=n\n",
    "while temp>0:\n",
    "    rem=temp%10\n",
    "    arm=arm+(rem**3)\n",
    "    temp=temp//10\n",
    "if (n==arm):\n",
    "     print(\"The given number is armstrong\",n)\n",
    "else:\n",
    "     print(\"This is not armstrong number\",n)"
   ]
  },
  {
   "cell_type": "code",
   "execution_count": 9,
   "metadata": {},
   "outputs": [
    {
     "name": "stdout",
     "output_type": "stream",
     "text": [
      "0\n",
      "1\n",
      "2\n",
      "3\n",
      "4\n",
      "5\n",
      "6\n",
      "7\n",
      "8\n",
      "9\n",
      "153\n",
      "370\n",
      "371\n",
      "407\n"
     ]
    }
   ],
   "source": [
    "#find armstrong number in given interval\n",
    "for i in range(0,1001):\n",
    "    num=i\n",
    "    sum=0\n",
    "    n=len(str(i))\n",
    "    while(i!=0):\n",
    "        digit=i%10\n",
    "        sum=sum+(digit**n)\n",
    "        i=i//10\n",
    "    if(num==sum):\n",
    "            print(num)"
   ]
  },
  {
   "cell_type": "code",
   "execution_count": 10,
   "metadata": {},
   "outputs": [
    {
     "name": "stdout",
     "output_type": "stream",
     "text": [
      "The sum of natural number is: 136\n"
     ]
    }
   ],
   "source": [
    "#Find the sum of Natural Numbers\n",
    "def sum(N):\n",
    "    num=0\n",
    "    for i in range(1,N+1):#12345\n",
    "          num=num+i\n",
    "    print(\"The sum of natural number is:\",num)\n",
    "    \n",
    "sum(16)"
   ]
  },
  {
   "cell_type": "code",
   "execution_count": null,
   "metadata": {},
   "outputs": [],
   "source": []
  }
 ],
 "metadata": {
  "kernelspec": {
   "display_name": "Python 3",
   "language": "python",
   "name": "python3"
  },
  "language_info": {
   "codemirror_mode": {
    "name": "ipython",
    "version": 3
   },
   "file_extension": ".py",
   "mimetype": "text/x-python",
   "name": "python",
   "nbconvert_exporter": "python",
   "pygments_lexer": "ipython3",
   "version": "3.8.5"
  }
 },
 "nbformat": 4,
 "nbformat_minor": 4
}
