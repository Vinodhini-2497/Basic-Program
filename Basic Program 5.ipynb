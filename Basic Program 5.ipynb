{
 "cells": [
  {
   "cell_type": "code",
   "execution_count": 3,
   "metadata": {},
   "outputs": [
    {
     "name": "stdout",
     "output_type": "stream",
     "text": [
      "lcm is: 216\n"
     ]
    }
   ],
   "source": [
    "#Find the Lcm value\n",
    "def lcm(num1,num2):\n",
    "    if num1>num2:\n",
    "        temp=num1\n",
    "    else:\n",
    "        temp=num2\n",
    "    \n",
    "    while(True):\n",
    "        if((temp%num1==0)and(temp%num2==0)):\n",
    "            value=temp\n",
    "            break\n",
    "        temp=temp+1\n",
    "    return value\n",
    "\n",
    "x=54\n",
    "y=24\n",
    "\n",
    "print(\"lcm is:\",lcm(x,y))"
   ]
  },
  {
   "cell_type": "code",
   "execution_count": 6,
   "metadata": {},
   "outputs": [
    {
     "name": "stdout",
     "output_type": "stream",
     "text": [
      "HCF is: 6\n"
     ]
    }
   ],
   "source": [
    "#Find the HCF value\n",
    "def hcf(a,b):\n",
    "    if a>b:\n",
    "        value=a\n",
    "    else:\n",
    "        value=b\n",
    "    \n",
    "    for i in range(1,value+1):\n",
    "        if((a%i==0)and(b%i==0)):\n",
    "            temp=i\n",
    "        \n",
    "    return temp\n",
    "\n",
    "a=54\n",
    "b=24\n",
    "\n",
    "print(\"HCF is:\",hcf(a,b))"
   ]
  },
  {
   "cell_type": "code",
   "execution_count": 17,
   "metadata": {},
   "outputs": [
    {
     "name": "stdout",
     "output_type": "stream",
     "text": [
      "enter the value:F\n",
      "70\n"
     ]
    }
   ],
   "source": [
    "#find the ASCII value\n",
    "string=str(input(\"enter the value:\"))\n",
    "for i in string:\n",
    "        print(ord(string))"
   ]
  },
  {
   "cell_type": "code",
   "execution_count": 22,
   "metadata": {},
   "outputs": [
    {
     "name": "stdout",
     "output_type": "stream",
     "text": [
      "enetr the decimal value:1\n",
      "enter the convert value [1]-octal,[2]-binary,[3]-hexa value:1\n",
      "convert dec to binary: 0o1\n",
      "Successfully run\n"
     ]
    }
   ],
   "source": [
    "#convert decimal to bin,oct,hex\n",
    "import logging as lg\n",
    "lg.basicConfig(filename=\"Convert.log\", level=lg.ERROR, format='%(asctime)s-%(message)s')\n",
    "try:\n",
    "    Dec=int(input(\"enetr the decimal value:\"))\n",
    "    convert=int(input(\"enter the convert value [1]-octal,[2]-binary,[3]-hexa value:\"))\n",
    "    dict={'1':\"Octal\",'2':\"Binary\",'3':\"Hexa\"}\n",
    "    if convert==1:\n",
    "        print(\"convert dec to binary:\", oct(Dec))\n",
    "    elif convert==2:\n",
    "        print(\"convert dec to Octal:\", bin(Dec))\n",
    "    elif convert==3:\n",
    "        print((\"convert dec to Hexa:\", hex(Dec)))\n",
    "    else:\n",
    "        raise Exception\n",
    "except Exception as e:\n",
    "        lg.error(e)\n",
    "        print(\"check your input value\")\n",
    "finally:\n",
    "        print(\"Successfully run\")"
   ]
  },
  {
   "cell_type": "code",
   "execution_count": 21,
   "metadata": {},
   "outputs": [
    {
     "name": "stdout",
     "output_type": "stream",
     "text": [
      "select Operation\n",
      "1.Add\n",
      "2.Sub\n",
      "3.div\n",
      "4.multi\n",
      "Enter the opeartion value, 1,2,3,4:1\n",
      "Enter the value :2\n",
      "Enter the value:3\n",
      "2.0 + 3.0 = 5.0\n"
     ]
    }
   ],
   "source": [
    "#Simple calculator\n",
    "def add(x,y):\n",
    "    return x+y\n",
    "def sub(x,y):\n",
    "    return x-y\n",
    "def div(x,y):\n",
    "    return x/y\n",
    "def multi(x,y):\n",
    "    return x*y   \n",
    "print(\"select Operation\")\n",
    "print(\"1.Add\")\n",
    "print(\"2.Sub\")\n",
    "print(\"3.div\")\n",
    "print(\"4.multi\")\n",
    "oper=input(\"Enter the opeartion value, 1,2,3,4:\")\n",
    "\n",
    "num1=float(input(\"Enter the value :\"))\n",
    "num2=float(input(\"Enter the value:\"))\n",
    "\n",
    "if oper=='1':\n",
    "    print(num1, \"+\",num2,\"=\",add(num1,num2))\n",
    "elif oper=='2':\n",
    "    print(num1, \"-\",num2,\"=\",sub(num1,num2))\n",
    "elif oper=='3':\n",
    "    print(num1, \"/\",num2,\"=\",div(num1,num2))\n",
    "elif oper=='4':\n",
    "    print(num1, \"*\",num2,\"=\",multi(num1,num2))\n",
    "else:\n",
    "    print(\"invalid input\")\n",
    "\n",
    "\n",
    "        "
   ]
  },
  {
   "cell_type": "code",
   "execution_count": null,
   "metadata": {},
   "outputs": [],
   "source": []
  },
  {
   "cell_type": "code",
   "execution_count": null,
   "metadata": {},
   "outputs": [],
   "source": []
  }
 ],
 "metadata": {
  "kernelspec": {
   "display_name": "Python 3",
   "language": "python",
   "name": "python3"
  },
  "language_info": {
   "codemirror_mode": {
    "name": "ipython",
    "version": 3
   },
   "file_extension": ".py",
   "mimetype": "text/x-python",
   "name": "python",
   "nbconvert_exporter": "python",
   "pygments_lexer": "ipython3",
   "version": "3.8.5"
  }
 },
 "nbformat": 4,
 "nbformat_minor": 4
}
