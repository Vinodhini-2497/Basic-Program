{
 "cells": [
  {
   "cell_type": "code",
   "execution_count": 7,
   "metadata": {},
   "outputs": [
    {
     "name": "stdout",
     "output_type": "stream",
     "text": [
      "Hello Python\n"
     ]
    }
   ],
   "source": [
    "#To print \"Hello Python\"\n",
    "print(\"Hello Python\")"
   ]
  },
  {
   "cell_type": "code",
   "execution_count": 54,
   "metadata": {},
   "outputs": [
    {
     "name": "stdout",
     "output_type": "stream",
     "text": [
      "Enter the a value:10\n",
      "Enter the b value:2\n",
      "The addition of two values is : 12\n",
      "The division of two values is: 5.0\n"
     ]
    }
   ],
   "source": [
    "#Arithmetical operatios additions and divisions\n",
    "a=int(input(\"Enter the a value:\"))\n",
    "b=int(input(\"Enter the b value:\"))\n",
    "c=a+b\n",
    "print(\"The addition of two values is :\", c)\n",
    "d=a/b\n",
    "print(\"The division of two values is:\", d)"
   ]
  },
  {
   "cell_type": "code",
   "execution_count": 53,
   "metadata": {},
   "outputs": [
    {
     "name": "stdout",
     "output_type": "stream",
     "text": [
      "Enter the Breadth of triangle:5\n",
      "Enter the Height of triangle:2\n",
      "The Area of traingle is 5.0\n"
     ]
    }
   ],
   "source": [
    "#Area of Triangle\n",
    "a=int(input(\"Enter the Breadth of triangle:\"))\n",
    "b=int(input(\"Enter the Height of triangle:\"))\n",
    "c=float(0.5)\n",
    "Area=(a*b)*c\n",
    "print(\"The Area of traingle is {}\".format(Area))"
   ]
  },
  {
   "cell_type": "code",
   "execution_count": 23,
   "metadata": {},
   "outputs": [
    {
     "name": "stdout",
     "output_type": "stream",
     "text": [
      "enter x value:2\n",
      "enter y value:5\n",
      "The value of x=5,y=2 after swaping the variable:\n"
     ]
    }
   ],
   "source": [
    "#Swap a Variable\n",
    "x=int(input(\"enter x value:\"))\n",
    "y=int(input(\"enter y value:\"))\n",
    "z=x\n",
    "x=y\n",
    "y=z\n",
    "print(\"The value of x={},y={} after swaping the variable:\".format(x,y))"
   ]
  },
  {
   "cell_type": "code",
   "execution_count": 62,
   "metadata": {},
   "outputs": [
    {
     "name": "stdout",
     "output_type": "stream",
     "text": [
      "please enter the number of element:5\n",
      "please enter the index of list value 0:1\n",
      "please enter the index of list value 1:5\n",
      "please enter the index of list value 2:78\n",
      "please enter the index of list value 3:4\n",
      "please enter the index of list value 4:5\n",
      "The random numbers is 1\n",
      "The random numbers is 5\n",
      "The random numbers is 78\n",
      "The random numbers is 4\n",
      "The remove repeated number you type and orginal list is {1, 4, 5, 78}\n"
     ]
    }
   ],
   "source": [
    "#Generate a random number\n",
    "User_list=[]\n",
    "index=int(input(\"please enter the number of element:\"))\n",
    "for i in range(0,index):\n",
    "    value=int(input(\"please enter the index of list value %d:\"%i))\n",
    "    User_list.append(value) \n",
    "c=set(User_list)\n",
    "for i in range(len(c)):\n",
    "       if (i>=0 and i<=100):\n",
    "            print(\"The random numbers is\",format((User_list[i])))\n",
    "print(\"The remove repeated number you type and orginal list is {}\".format(c))\n"
   ]
  },
  {
   "cell_type": "markdown",
   "metadata": {},
   "source": [
    "   "
   ]
  },
  {
   "cell_type": "code",
   "execution_count": null,
   "metadata": {},
   "outputs": [],
   "source": []
  }
 ],
 "metadata": {
  "kernelspec": {
   "display_name": "Python 3",
   "language": "python",
   "name": "python3"
  },
  "language_info": {
   "codemirror_mode": {
    "name": "ipython",
    "version": 3
   },
   "file_extension": ".py",
   "mimetype": "text/x-python",
   "name": "python",
   "nbconvert_exporter": "python",
   "pygments_lexer": "ipython3",
   "version": "3.8.5"
  }
 },
 "nbformat": 4,
 "nbformat_minor": 4
}
